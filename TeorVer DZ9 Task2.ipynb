{
 "cells": [
  {
   "cell_type": "code",
   "execution_count": 2,
   "id": "bc7a1a4f",
   "metadata": {},
   "outputs": [],
   "source": [
    "# Задача 2) Посчитать коэффициент линейной регрессии при заработной плате (zp), используя градиентный спуск (без intercept).\n",
    "\n",
    "import numpy as np\n",
    "\n",
    "zp = np.array([35, 45, 190, 200, 40, 70, 54, 150, 120, 110])\n",
    "ks = np.array([401, 574, 874, 919, 459, 739, 653, 902, 746, 832])"
   ]
  },
  {
   "cell_type": "code",
   "execution_count": 3,
   "id": "d2d57085",
   "metadata": {},
   "outputs": [],
   "source": [
    "def _mse(b, x, y):\n",
    "    return np.sum((b * x - y) ** 2) / len(x)"
   ]
  },
  {
   "cell_type": "code",
   "execution_count": 4,
   "id": "ad09e86c",
   "metadata": {},
   "outputs": [
    {
     "data": {
      "text/plain": [
       "203812.48504"
      ]
     },
     "execution_count": 4,
     "metadata": {},
     "output_type": "execute_result"
    }
   ],
   "source": [
    "_mse(2.62, zp, ks)"
   ]
  },
  {
   "cell_type": "code",
   "execution_count": 5,
   "id": "8b8fc7bf",
   "metadata": {},
   "outputs": [],
   "source": [
    "#функция потерь\n",
    "\n",
    "def _mse_p(b,x,y):\n",
    "    return (2 / len(x)) * np.sum((b * x - y) * x)"
   ]
  },
  {
   "cell_type": "code",
   "execution_count": 6,
   "id": "3e41e993",
   "metadata": {},
   "outputs": [],
   "source": [
    "#параметр - скорость обучения \n",
    "\n",
    "alpha = 1e-06"
   ]
  },
  {
   "cell_type": "code",
   "execution_count": 7,
   "id": "8ec1fa4b",
   "metadata": {},
   "outputs": [
    {
     "name": "stdout",
     "output_type": "stream",
     "text": [
      "Итерация #0, b=0.25952808000000005, mse=493237.7212546963\n",
      "Итерация #100, b=5.54537842245223, mse=58151.31823171113\n",
      "Итерация #200, b=5.868748638669329, mse=56522.97550129376\n",
      "Итерация #300, b=5.888531320728348, mse=56516.88130936019\n",
      "Итерация #400, b=5.8897415574471985, mse=56516.85850140053\n",
      "Итерация #500, b=5.889815595583751, mse=56516.858416040064\n",
      "Итерация #600, b=5.889820124983314, mse=56516.85841572062\n",
      "Итерация #628, b=5.889820285147628, mse=56516.85841571966,\n",
      "Достигнут минимум.\n"
     ]
    }
   ],
   "source": [
    "b = 0.1\n",
    "mse_min = _mse(b,zp,ks)\n",
    "i_min = 1\n",
    "b_min = b\n",
    "for i in range(10000):\n",
    "    b -= alpha * _mse_p(b,zp,ks)\n",
    "    if i%100==0:\n",
    "        print(f'Итерация #{i}, b={b}, mse={_mse(b, zp,ks)}')\n",
    "    if _mse(b,zp,ks)>mse_min:\n",
    "        print(f'Итерация #{i_min}, b={b_min}, mse={mse_min},\\nДостигнут минимум.')\n",
    "        break\n",
    "    else:\n",
    "        mse_min = _mse(b,zp,ks)\n",
    "        i_min = i\n",
    "        b_min = b"
   ]
  },
  {
   "cell_type": "code",
   "execution_count": 8,
   "id": "9a1042c3",
   "metadata": {},
   "outputs": [
    {
     "data": {
      "text/plain": [
       "5.889820285147628"
      ]
     },
     "execution_count": 8,
     "metadata": {},
     "output_type": "execute_result"
    }
   ],
   "source": [
    "b_min"
   ]
  },
  {
   "cell_type": "code",
   "execution_count": null,
   "id": "bea30948",
   "metadata": {},
   "outputs": [],
   "source": []
  }
 ],
 "metadata": {
  "kernelspec": {
   "display_name": "Python 3 (ipykernel)",
   "language": "python",
   "name": "python3"
  },
  "language_info": {
   "codemirror_mode": {
    "name": "ipython",
    "version": 3
   },
   "file_extension": ".py",
   "mimetype": "text/x-python",
   "name": "python",
   "nbconvert_exporter": "python",
   "pygments_lexer": "ipython3",
   "version": "3.9.13"
  }
 },
 "nbformat": 4,
 "nbformat_minor": 5
}
